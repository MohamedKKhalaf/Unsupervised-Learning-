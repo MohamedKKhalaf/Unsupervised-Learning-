{
  "nbformat": 4,
  "nbformat_minor": 0,
  "metadata": {
    "colab": {
      "provenance": [],
      "include_colab_link": true
    },
    "kernelspec": {
      "name": "python3",
      "display_name": "Python 3"
    },
    "language_info": {
      "name": "python"
    },
    "accelerator": "GPU"
  },
  "cells": [
    {
      "cell_type": "markdown",
      "metadata": {
        "id": "view-in-github",
        "colab_type": "text"
      },
      "source": [
        "<a href=\"https://colab.research.google.com/github/MohamedKKhalaf/Unsupervised-Learning-/blob/main/Unsupervised_project_(1).ipynb\" target=\"_parent\"><img src=\"https://colab.research.google.com/assets/colab-badge.svg\" alt=\"Open In Colab\"/></a>"
      ]
    },
    {
      "cell_type": "code",
      "execution_count": null,
      "metadata": {
        "id": "0XExCZ2I7cK0"
      },
      "outputs": [],
      "source": [
        "import numpy as np\n",
        "import pandas as pd"
      ]
    },
    {
      "cell_type": "code",
      "source": [
        "data_frame=pd.read_csv(\"emails.csv\")\n"
      ],
      "metadata": {
        "id": "_j4eowc9BMnb"
      },
      "execution_count": null,
      "outputs": []
    },
    {
      "cell_type": "code",
      "source": [
        "data=data_frame\n",
        "print(len(data_frame.columns))\n",
        "print(data_frame.shape)\n",
        "print(data.to_numpy())\n",
        "temp=data.to_numpy()"
      ],
      "metadata": {
        "colab": {
          "base_uri": "https://localhost:8080/"
        },
        "id": "eexiyJugB87o",
        "outputId": "9ea2248b-463f-4dfd-f0da-e579a6270989"
      },
      "execution_count": null,
      "outputs": [
        {
          "output_type": "stream",
          "name": "stdout",
          "text": [
            "3002\n",
            "(5172, 3002)\n",
            "[['Email 1' 0 0 ... 0 0 0]\n",
            " ['Email 2' 8 13 ... 1 0 0]\n",
            " ['Email 3' 0 0 ... 0 0 0]\n",
            " ...\n",
            " ['Email 5170' 0 0 ... 0 0 1]\n",
            " ['Email 5171' 2 7 ... 1 0 1]\n",
            " ['Email 5172' 22 24 ... 0 0 0]]\n"
          ]
        }
      ]
    },
    {
      "cell_type": "code",
      "source": [
        "#save the labels\n",
        "spam_labels=[]\n",
        "for i in range(len(data)):\n",
        "  spam_labels.append(temp[i][len(data.columns)-1])\n",
        "\n",
        "len(spam_labels)"
      ],
      "metadata": {
        "colab": {
          "base_uri": "https://localhost:8080/"
        },
        "id": "ACYHG0lbD3XW",
        "outputId": "0284cbd6-5709-4213-ff70-fd2a734e046e"
      },
      "execution_count": null,
      "outputs": [
        {
          "output_type": "execute_result",
          "data": {
            "text/plain": [
              "5172"
            ]
          },
          "metadata": {},
          "execution_count": 48
        }
      ]
    },
    {
      "cell_type": "code",
      "source": [
        "# to drop the Email No column\n",
        "data.drop(columns=data.columns[0],\n",
        "        axis=1,\n",
        "        inplace=True)\n",
        "data.drop(columns=data.columns[len(data.columns)-1],\n",
        "        axis=1,\n",
        "        inplace=True)\n",
        "print(data.to_numpy())\n",
        "print(data.shape)"
      ],
      "metadata": {
        "colab": {
          "base_uri": "https://localhost:8080/"
        },
        "id": "p_0RqDL1Clyo",
        "outputId": "c0ec5ea1-b31a-4d6d-b752-298a93e98a9b"
      },
      "execution_count": null,
      "outputs": [
        {
          "output_type": "stream",
          "name": "stdout",
          "text": [
            "[[ 0  0  1 ...  0  0  0]\n",
            " [ 8 13 24 ...  0  1  0]\n",
            " [ 0  0  1 ...  0  0  0]\n",
            " ...\n",
            " [ 0  0  1 ...  0  0  0]\n",
            " [ 2  7  1 ...  0  1  0]\n",
            " [22 24  5 ...  0  0  0]]\n",
            "(5172, 3000)\n"
          ]
        }
      ]
    },
    {
      "cell_type": "code",
      "source": [
        "original_data=data"
      ],
      "metadata": {
        "id": "u-NpdOEevvlk"
      },
      "execution_count": null,
      "outputs": []
    },
    {
      "cell_type": "code",
      "source": [
        "from scipy import stats\n",
        "i=(np.abs(stats.zscore(data)) < 20).all(axis=1)"
      ],
      "metadata": {
        "id": "hApctSo3KlcQ"
      },
      "execution_count": null,
      "outputs": []
    },
    {
      "cell_type": "code",
      "source": [
        "i"
      ],
      "metadata": {
        "colab": {
          "base_uri": "https://localhost:8080/"
        },
        "id": "6JFEiZOaRCOk",
        "outputId": "71772ef1-ed7e-443d-ff4d-d614e91e9643"
      },
      "execution_count": null,
      "outputs": [
        {
          "output_type": "execute_result",
          "data": {
            "text/plain": [
              "array([ True, False,  True, ...,  True,  True, False])"
            ]
          },
          "metadata": {},
          "execution_count": 52
        }
      ]
    },
    {
      "cell_type": "code",
      "source": [
        "false=[]\n",
        "for j in range(len(i)):\n",
        "  if i[j]==False:\n",
        "    false.append(j)"
      ],
      "metadata": {
        "id": "JmOw5kgOK5Xe"
      },
      "execution_count": null,
      "outputs": []
    },
    {
      "cell_type": "code",
      "source": [
        "len(false)"
      ],
      "metadata": {
        "colab": {
          "base_uri": "https://localhost:8080/"
        },
        "id": "KTk50wvzM6el",
        "outputId": "923cfa4a-f704-40fe-a06b-925a467fe34d"
      },
      "execution_count": null,
      "outputs": [
        {
          "output_type": "execute_result",
          "data": {
            "text/plain": [
              "1422"
            ]
          },
          "metadata": {},
          "execution_count": 54
        }
      ]
    },
    {
      "cell_type": "code",
      "source": [
        "\n",
        "#Z=x-mean/std\n",
        "#the number of standard deviations a given data point lies above or below mean\n",
        "data=data[(np.abs(stats.zscore(data)) < 20).all(axis=1)]"
      ],
      "metadata": {
        "id": "ebLUL8_j7Kf0"
      },
      "execution_count": null,
      "outputs": []
    },
    {
      "cell_type": "code",
      "source": [
        "print(data.shape)"
      ],
      "metadata": {
        "colab": {
          "base_uri": "https://localhost:8080/"
        },
        "id": "zM7YIE5R7WTy",
        "outputId": "0c965dda-1d69-471c-9878-57e3e8c26822"
      },
      "execution_count": null,
      "outputs": [
        {
          "output_type": "stream",
          "name": "stdout",
          "text": [
            "(3750, 3000)\n"
          ]
        }
      ]
    },
    {
      "cell_type": "code",
      "source": [
        "spam_lab_modified=[]\n",
        "for j in range(len(i)):\n",
        "  if i[j]==True:\n",
        "    spam_lab_modified.append(spam_labels[j])\n",
        "\n",
        "len(spam_lab_modified)"
      ],
      "metadata": {
        "colab": {
          "base_uri": "https://localhost:8080/"
        },
        "id": "8Bv8dOh9FPlk",
        "outputId": "913600e4-dea5-4114-a790-5ef07a1a3751"
      },
      "execution_count": null,
      "outputs": [
        {
          "output_type": "execute_result",
          "data": {
            "text/plain": [
              "3750"
            ]
          },
          "metadata": {},
          "execution_count": 57
        }
      ]
    },
    {
      "cell_type": "code",
      "source": [
        "X=data.to_numpy()\n",
        "X.shape"
      ],
      "metadata": {
        "colab": {
          "base_uri": "https://localhost:8080/"
        },
        "id": "BjNCWH7E7HkU",
        "outputId": "90a0da0a-f638-4b72-c5d6-4b62d55da13c"
      },
      "execution_count": null,
      "outputs": [
        {
          "output_type": "execute_result",
          "data": {
            "text/plain": [
              "(3750, 3000)"
            ]
          },
          "metadata": {},
          "execution_count": 58
        }
      ]
    },
    {
      "cell_type": "markdown",
      "source": [
        "## **Fuzzy C-Means using Builtin Func**"
      ],
      "metadata": {
        "id": "Goyd3IqBVdsT"
      }
    },
    {
      "cell_type": "code",
      "source": [
        "pip install fuzzy-c-means"
      ],
      "metadata": {
        "colab": {
          "base_uri": "https://localhost:8080/",
          "height": 514
        },
        "id": "cTexzdh6Emu3",
        "outputId": "974ebd22-89cf-481a-8372-164b30a1153e"
      },
      "execution_count": null,
      "outputs": [
        {
          "output_type": "stream",
          "name": "stdout",
          "text": [
            "Collecting fuzzy-c-means\n",
            "  Downloading fuzzy_c_means-1.6.3-py3-none-any.whl (9.1 kB)\n",
            "Collecting typer<0.4.0,>=0.3.2\n",
            "  Downloading typer-0.3.2-py3-none-any.whl (21 kB)\n",
            "Requirement already satisfied: tabulate<0.9.0,>=0.8.9 in /usr/local/lib/python3.7/dist-packages (from fuzzy-c-means) (0.8.9)\n",
            "Collecting numpy<2.0.0,>=1.21.1\n",
            "  Downloading numpy-1.21.5-cp37-cp37m-manylinux_2_12_x86_64.manylinux2010_x86_64.whl (15.7 MB)\n",
            "\u001b[K     |████████████████████████████████| 15.7 MB 7.1 MB/s \n",
            "\u001b[?25hCollecting pydantic<2.0.0,>=1.8.2\n",
            "  Downloading pydantic-1.9.0-cp37-cp37m-manylinux_2_17_x86_64.manylinux2014_x86_64.whl (10.9 MB)\n",
            "\u001b[K     |████████████████████████████████| 10.9 MB 34.7 MB/s \n",
            "\u001b[?25hRequirement already satisfied: typing-extensions>=3.7.4.3 in /usr/local/lib/python3.7/dist-packages (from pydantic<2.0.0,>=1.8.2->fuzzy-c-means) (3.10.0.2)\n",
            "Requirement already satisfied: click<7.2.0,>=7.1.1 in /usr/local/lib/python3.7/dist-packages (from typer<0.4.0,>=0.3.2->fuzzy-c-means) (7.1.2)\n",
            "Installing collected packages: typer, pydantic, numpy, fuzzy-c-means\n",
            "  Attempting uninstall: numpy\n",
            "    Found existing installation: numpy 1.19.5\n",
            "    Uninstalling numpy-1.19.5:\n",
            "      Successfully uninstalled numpy-1.19.5\n",
            "\u001b[31mERROR: pip's dependency resolver does not currently take into account all the packages that are installed. This behaviour is the source of the following dependency conflicts.\n",
            "yellowbrick 1.3.post1 requires numpy<1.20,>=1.16.0, but you have numpy 1.21.5 which is incompatible.\n",
            "datascience 0.10.6 requires folium==0.2.1, but you have folium 0.8.3 which is incompatible.\n",
            "albumentations 0.1.12 requires imgaug<0.2.7,>=0.2.5, but you have imgaug 0.2.9 which is incompatible.\u001b[0m\n",
            "Successfully installed fuzzy-c-means-1.6.3 numpy-1.21.5 pydantic-1.9.0 typer-0.3.2\n"
          ]
        },
        {
          "output_type": "display_data",
          "data": {
            "application/vnd.colab-display-data+json": {
              "pip_warning": {
                "packages": [
                  "numpy"
                ]
              }
            }
          },
          "metadata": {}
        }
      ]
    },
    {
      "cell_type": "code",
      "source": [
        "from fcmeans import FCM\n",
        "\n",
        "model=FCM(n_clusters=2)\n",
        "model.fit(X)"
      ],
      "metadata": {
        "id": "1UJJnFbUE712"
      },
      "execution_count": null,
      "outputs": []
    },
    {
      "cell_type": "code",
      "source": [
        "centers=model.centers\n",
        "labels=model.predict(X)\n",
        "print(centers.shape)"
      ],
      "metadata": {
        "colab": {
          "base_uri": "https://localhost:8080/"
        },
        "id": "WbH8iYKOFn1u",
        "outputId": "cc6e2ba4-d5f7-4a25-ec79-c384c86e57bd"
      },
      "execution_count": null,
      "outputs": [
        {
          "output_type": "stream",
          "name": "stdout",
          "text": [
            "(2, 3000)\n"
          ]
        }
      ]
    },
    {
      "cell_type": "code",
      "source": [
        "from sklearn.decomposition import PCA\n",
        "pca=PCA(2)\n",
        "pca2=PCA(2)"
      ],
      "metadata": {
        "id": "Yb1ZEJHSFziY"
      },
      "execution_count": null,
      "outputs": []
    },
    {
      "cell_type": "code",
      "source": [
        "transformed_data=pca.fit_transform(X)\n",
        "print(transformed_data.shape)\n",
        "trans_centers=pca2.fit_transform(centers)\n",
        "print(trans_centers.shape)"
      ],
      "metadata": {
        "colab": {
          "base_uri": "https://localhost:8080/"
        },
        "id": "k4v8vi8iIUNN",
        "outputId": "909eefb2-33a0-46eb-f434-10dcf7535709"
      },
      "execution_count": null,
      "outputs": [
        {
          "output_type": "stream",
          "name": "stdout",
          "text": [
            "(3750, 2)\n",
            "(2, 2)\n"
          ]
        }
      ]
    },
    {
      "cell_type": "code",
      "source": [
        "trans_original=pca.fit_transform(original_data)"
      ],
      "metadata": {
        "id": "GKqvNVXTwE07"
      },
      "execution_count": null,
      "outputs": []
    },
    {
      "cell_type": "code",
      "source": [
        "import seaborn as sns\n",
        "sns.boxplot(trans_original[:,0])"
      ],
      "metadata": {
        "colab": {
          "base_uri": "https://localhost:8080/",
          "height": 336
        },
        "id": "WHwIzLrzwrf3",
        "outputId": "992ebc07-6234-401b-f09b-c831d3c2535a"
      },
      "execution_count": null,
      "outputs": [
        {
          "output_type": "stream",
          "name": "stderr",
          "text": [
            "/usr/local/lib/python3.7/dist-packages/seaborn/_decorators.py:43: FutureWarning: Pass the following variable as a keyword arg: x. From version 0.12, the only valid positional argument will be `data`, and passing other arguments without an explicit keyword will result in an error or misinterpretation.\n",
            "  FutureWarning\n"
          ]
        },
        {
          "output_type": "execute_result",
          "data": {
            "text/plain": [
              "<matplotlib.axes._subplots.AxesSubplot at 0x7f4ffc798950>"
            ]
          },
          "metadata": {},
          "execution_count": 65
        },
        {
          "output_type": "display_data",
          "data": {
            "image/png": "[encoded data removed]",
            "text/plain": [
              "<Figure size 432x288 with 1 Axes>"
            ]
          },
          "metadata": {
            "needs_background": "light"
          }
        }
      ]
    },
    {
      "cell_type": "code",
      "source": [
        "sns.boxplot(transformed_data[:,0])"
      ],
      "metadata": {
        "colab": {
          "base_uri": "https://localhost:8080/",
          "height": 336
        },
        "id": "Z4NnfpdmulTW",
        "outputId": "6fc616f2-778a-4172-ba4f-e6291fad7943"
      },
      "execution_count": null,
      "outputs": [
        {
          "output_type": "stream",
          "name": "stderr",
          "text": [
            "/usr/local/lib/python3.7/dist-packages/seaborn/_decorators.py:43: FutureWarning: Pass the following variable as a keyword arg: x. From version 0.12, the only valid positional argument will be `data`, and passing other arguments without an explicit keyword will result in an error or misinterpretation.\n",
            "  FutureWarning\n"
          ]
        },
        {
          "output_type": "execute_result",
          "data": {
            "text/plain": [
              "<matplotlib.axes._subplots.AxesSubplot at 0x7f4fedd23d50>"
            ]
          },
          "metadata": {},
          "execution_count": 66
        },
        {
          "output_type": "display_data",
          "data": {
            "image/png": "[encoded data removed]",
            "text/plain": [
              "<Figure size 432x288 with 1 Axes>"
            ]
          },
          "metadata": {
            "needs_background": "light"
          }
        }
      ]
    },
    {
      "cell_type": "code",
      "source": [
        "unique_labels=np.unique(labels)\n",
        "labels.shape\n",
        "unique_labels.shape"
      ],
      "metadata": {
        "colab": {
          "base_uri": "https://localhost:8080/"
        },
        "id": "yAxyIA27Iwxn",
        "outputId": "a28aceb3-e1c2-4a47-e558-8777c54ac3c8"
      },
      "execution_count": null,
      "outputs": [
        {
          "output_type": "execute_result",
          "data": {
            "text/plain": [
              "(2,)"
            ]
          },
          "metadata": {},
          "execution_count": 67
        }
      ]
    },
    {
      "cell_type": "code",
      "source": [
        "import matplotlib.pyplot as plt\n",
        "\n",
        "label0 = transformed_data[labels ==0]\n",
        "plt.scatter(label0[:,0] , label0[:,1])\n",
        "plt.show()"
      ],
      "metadata": {
        "colab": {
          "base_uri": "https://localhost:8080/",
          "height": 269
        },
        "id": "DRyY1WqpJnl0",
        "outputId": "05a5b8c9-f41b-489e-8d79-2620fa6f2be1"
      },
      "execution_count": null,
      "outputs": [
        {
          "output_type": "display_data",
          "data": {
            "image/png": "[encoded data removed]",
            "text/plain": [
              "<Figure size 432x288 with 1 Axes>"
            ]
          },
          "metadata": {
            "needs_background": "light"
          }
        }
      ]
    },
    {
      "cell_type": "code",
      "source": [
        "for i in unique_labels:\n",
        "    # if i!=1:\n",
        "      plt.scatter(transformed_data[labels == i , 0] , transformed_data[labels == i , 1] , label = i)\n",
        "plt.scatter(trans_centers[:,0] , trans_centers[:,1] , s = 80, color = 'black')\n",
        "plt.legend()\n",
        "plt.show()"
      ],
      "metadata": {
        "colab": {
          "base_uri": "https://localhost:8080/",
          "height": 269
        },
        "id": "uLCqzCu3JBmc",
        "outputId": "076c6c71-4ca3-4aa5-e6fa-9e698f43acb0"
      },
      "execution_count": null,
      "outputs": [
        {
          "output_type": "display_data",
          "data": {
            "image/png": "[encoded data removed]",
            "text/plain": [
              "<Figure size 432x288 with 1 Axes>"
            ]
          },
          "metadata": {
            "needs_background": "light"
          }
        }
      ]
    },
    {
      "cell_type": "code",
      "source": [
        "count=0\n",
        "for i in range(len(labels)):\n",
        "  if labels[i]==spam_lab_modified[i]:\n",
        "    count=count+1\n",
        "\n",
        "count/len(labels)"
      ],
      "metadata": {
        "colab": {
          "base_uri": "https://localhost:8080/"
        },
        "id": "UGw8N10RTgY7",
        "outputId": "d0c777ac-2196-4c95-c1df-4303fb96cb71"
      },
      "execution_count": null,
      "outputs": [
        {
          "output_type": "execute_result",
          "data": {
            "text/plain": [
              "0.32693333333333335"
            ]
          },
          "metadata": {},
          "execution_count": 70
        }
      ]
    },
    {
      "cell_type": "code",
      "source": [
        "plt.scatter(centers[:,0] , centers[:,1] , s = 80, color = 'black')"
      ],
      "metadata": {
        "colab": {
          "base_uri": "https://localhost:8080/",
          "height": 282
        },
        "id": "xJJ3wDWyNzh6",
        "outputId": "0dff4a3d-91e9-472e-f800-67f6890abf8b"
      },
      "execution_count": null,
      "outputs": [
        {
          "output_type": "execute_result",
          "data": {
            "text/plain": [
              "<matplotlib.collections.PathCollection at 0x7f4fed788690>"
            ]
          },
          "metadata": {},
          "execution_count": 71
        },
        {
          "output_type": "display_data",
          "data": {
            "image/png": "[encoded data removed]",
            "text/plain": [
              "<Figure size 432x288 with 1 Axes>"
            ]
          },
          "metadata": {
            "needs_background": "light"
          }
        }
      ]
    },
    {
      "cell_type": "markdown",
      "source": [
        "# **Fuzzy C-Means From Scratch**"
      ],
      "metadata": {
        "id": "Z4s0f5slVKQk"
      }
    },
    {
      "cell_type": "markdown",
      "source": [
        "### **parameters**"
      ],
      "metadata": {
        "id": "gU2Q9InpXEaU"
      }
    },
    {
      "cell_type": "code",
      "source": [
        "l_data=len(data)\n",
        "clusters=2\n",
        "dim_cluster=len(data.columns)\n",
        "fuzzy_parameter=1.7"
      ],
      "metadata": {
        "id": "zbkUyKwoXJ66"
      },
      "execution_count": null,
      "outputs": []
    },
    {
      "cell_type": "markdown",
      "source": [
        "### **initializing membership function**"
      ],
      "metadata": {
        "id": "wE28ds-hVwuT"
      }
    },
    {
      "cell_type": "code",
      "source": [
        "def initializeMembershipWeights():\n",
        "  weight = np.random.dirichlet(np.ones(clusters),l_data)\n",
        "  membershipWeights = np.array(weight)\n",
        "  return membershipWeights"
      ],
      "metadata": {
        "id": "cidKIr-uV6EU"
      },
      "execution_count": null,
      "outputs": []
    },
    {
      "cell_type": "markdown",
      "source": [
        "### **Calculating Cluster Center**"
      ],
      "metadata": {
        "id": "n47ZdKvxBfWy"
      }
    },
    {
      "cell_type": "code",
      "source": [
        "#Cj=SUM(Mij^g*Xi)/SUM(Mij^g)\n",
        "def computeCentroids(membershipWeights):\n",
        "  Centroids = []\n",
        "  for i in range(clusters):\n",
        "    weight_sum = np.power(membershipWeights[:,i],fuzzy_parameter).sum() #Denominator\n",
        "    Cj = []\n",
        "    for x in range(dim_cluster):\n",
        "      numerator = (data.iloc[:,x].values * np.power(membershipWeights[:,i],fuzzy_parameter)).sum()\n",
        "      c_val = numerator/weight_sum;\n",
        "      Cj.append(c_val)\n",
        "    Centroids.append(Cj)\n",
        "  return Centroids"
      ],
      "metadata": {
        "id": "JlB70ACQBnIp"
      },
      "execution_count": null,
      "outputs": []
    },
    {
      "cell_type": "markdown",
      "source": [
        "### **Updating Membership Matrix**"
      ],
      "metadata": {
        "id": "7WKQgMI4GdQo"
      }
    },
    {
      "cell_type": "code",
      "source": [
        "#Mij=1/Σm=1 to c(dij/dim)^(2/g-1)\n",
        "#CCi1=Σi=1 to N((Mi1^g *Xi1)/(Mi1^g)=A/B\n",
        "#CCi2=Σi=1 to N((Mi2^g *Xi2)/(Mi2^g)=A/B\n",
        "def updateMembershipFuncWeights(membershipWeights,C):\n",
        "  denominator = np.zeros(l_data)\n",
        "  for i in range(clusters):\n",
        "    dist = (data.iloc[:,:].values - C[i])**2\n",
        "    dist = np.sum(dist, axis=1)\n",
        "    dist = np.sqrt(dist)#Euclidean dist\n",
        "    denominator  = denominator + np.power(1/dist,1/(fuzzy_parameter-1))\n",
        "\n",
        "  for i in range(clusters):\n",
        "    dist = (data.iloc[:,:].values - C[i])**2\n",
        "    dist = np.sum(dist, axis=1)\n",
        "    dist = np.sqrt(dist)\n",
        "    membershipWeights[:,i] = np.divide(np.power(1/dist,1/(fuzzy_parameter-1)),denominator)\n",
        "  return membershipWeights"
      ],
      "metadata": {
        "id": "Q41USZSYGkcf"
      },
      "execution_count": null,
      "outputs": []
    },
    {
      "cell_type": "markdown",
      "source": [
        "### **Run The Algorithm**"
      ],
      "metadata": {
        "id": "fLO2bR3yKmSy"
      }
    },
    {
      "cell_type": "code",
      "source": [
        "def FCM_scratch():\n",
        "  membershipWeights = initializeMembershipWeights()\n",
        "  plt.figure(figsize=(50,50))\n",
        "  for z in range(50):\n",
        "    C = computeCentroids(membershipWeights)\n",
        "    updateMembershipFuncWeights(membershipWeights,C)\n",
        "  return (membershipWeights,C)"
      ],
      "metadata": {
        "id": "yKsY-vtVKp4r"
      },
      "execution_count": null,
      "outputs": []
    },
    {
      "cell_type": "code",
      "source": [
        "updated_matrix,centroids=FCM_scratch()"
      ],
      "metadata": {
        "colab": {
          "base_uri": "https://localhost:8080/",
          "height": 54
        },
        "id": "rh3UyUFjMJYK",
        "outputId": "5c75965d-5ba4-49c2-88ac-fc07b8340c41"
      },
      "execution_count": null,
      "outputs": [
        {
          "output_type": "display_data",
          "data": {
            "text/plain": [
              "<Figure size 3600x3600 with 0 Axes>"
            ]
          },
          "metadata": {}
        }
      ]
    },
    {
      "cell_type": "code",
      "source": [
        "print(len(updated_matrix))\n",
        "updated_matrix"
      ],
      "metadata": {
        "colab": {
          "base_uri": "https://localhost:8080/"
        },
        "id": "_QfjKgnwNA7i",
        "outputId": "a4875ea3-a756-4514-e054-c8fe38f08963"
      },
      "execution_count": null,
      "outputs": [
        {
          "output_type": "stream",
          "name": "stdout",
          "text": [
            "3750\n"
          ]
        },
        {
          "output_type": "execute_result",
          "data": {
            "text/plain": [
              "array([[0.11896948, 0.88103052],\n",
              "       [0.10776096, 0.89223904],\n",
              "       [0.6534018 , 0.3465982 ],\n",
              "       ...,\n",
              "       [0.64544752, 0.35455248],\n",
              "       [0.07399959, 0.92600041],\n",
              "       [0.43426398, 0.56573602]])"
            ]
          },
          "metadata": {},
          "execution_count": 78
        }
      ]
    },
    {
      "cell_type": "code",
      "source": [
        "from sklearn.decomposition import PCA\n",
        "pca=PCA(2)"
      ],
      "metadata": {
        "id": "FO0hm_UaMzEJ"
      },
      "execution_count": null,
      "outputs": []
    },
    {
      "cell_type": "code",
      "source": [
        "trans_Centroids=pca.fit_transform(centroids)"
      ],
      "metadata": {
        "id": "DGonvegLNEr5"
      },
      "execution_count": null,
      "outputs": []
    },
    {
      "cell_type": "code",
      "source": [
        "import matplotlib.pyplot as plt\n",
        "\n",
        "plt.scatter(trans_Centroids[:,0] , trans_Centroids[:,1] , s = 80, color = 'black')"
      ],
      "metadata": {
        "colab": {
          "base_uri": "https://localhost:8080/",
          "height": 71
        },
        "id": "rjjEJ2EJNOyZ",
        "outputId": "c2b372bb-ec5d-4307-be44-5f97bc0f8773"
      },
      "execution_count": null,
      "outputs": [
        {
          "output_type": "execute_result",
          "data": {
            "text/plain": [
              "<matplotlib.collections.PathCollection at 0x7f4fedd47b90>"
            ]
          },
          "metadata": {},
          "execution_count": 81
        },
        {
          "output_type": "display_data",
          "data": {
            "image/png": "[encoded data removed]",
            "text/plain": [
              "<Figure size 432x288 with 1 Axes>"
            ]
          },
          "metadata": {
            "needs_background": "light"
          }
        }
      ]
    },
    {
      "cell_type": "code",
      "source": [
        "labels_scratch=[]\n",
        "for i in range(len(data)):\n",
        "  max=updated_matrix[i][0]\n",
        "  max_index=0\n",
        "  for j in range(clusters):\n",
        "    if updated_matrix[i][j]>max:\n",
        "      max=updated_matrix[i][j]\n",
        "      max_index=j\n",
        "  labels_scratch.append(max_index)\n",
        "\n",
        "labels_sc=np.array(labels_scratch).flatten()"
      ],
      "metadata": {
        "id": "QzIEU0Y7SPvh"
      },
      "execution_count": null,
      "outputs": []
    },
    {
      "cell_type": "code",
      "source": [
        "trans_data=pca.fit_transform(X)"
      ],
      "metadata": {
        "id": "ObWzmNu8VSqE"
      },
      "execution_count": null,
      "outputs": []
    },
    {
      "cell_type": "code",
      "source": [
        "label0_sc = trans_data[labels_sc ==0]\n",
        "plt.scatter(label0_sc[:,0] , label0_sc[:,1])\n",
        "plt.show()\n"
      ],
      "metadata": {
        "colab": {
          "base_uri": "https://localhost:8080/",
          "height": 54
        },
        "id": "dZNHtPoYVsP0",
        "outputId": "b4a417c3-c2fb-435a-d098-cc9867ac0e01"
      },
      "execution_count": null,
      "outputs": [
        {
          "output_type": "display_data",
          "data": {
            "image/png": "[encoded data removed]",
            "text/plain": [
              "<Figure size 432x288 with 1 Axes>"
            ]
          },
          "metadata": {
            "needs_background": "light"
          }
        }
      ]
    },
    {
      "cell_type": "code",
      "source": [
        "uniqe_lb_sc=np.unique(labels_sc)\n",
        "uniqe_lb_sc.shape"
      ],
      "metadata": {
        "colab": {
          "base_uri": "https://localhost:8080/"
        },
        "id": "bv_X5lKaWkGT",
        "outputId": "4f4fb356-dfea-42e8-9320-e8417a50565e"
      },
      "execution_count": null,
      "outputs": [
        {
          "output_type": "execute_result",
          "data": {
            "text/plain": [
              "(2,)"
            ]
          },
          "metadata": {},
          "execution_count": 85
        }
      ]
    },
    {
      "cell_type": "code",
      "source": [
        "for i in uniqe_lb_sc:\n",
        "    # if i!=1:\n",
        "      plt.scatter(trans_data[labels_sc == i , 0] , trans_data[labels_sc == i , 1] , label = i)\n",
        "plt.scatter(trans_Centroids[:,0] , trans_Centroids[:,1] , s = 80, color = 'black')\n",
        "plt.legend()\n",
        "plt.show()"
      ],
      "metadata": {
        "colab": {
          "base_uri": "https://localhost:8080/",
          "height": 54
        },
        "id": "9mr0FubtWjSE",
        "outputId": "55f0a465-8bb6-4b96-8b00-1ab2a1daf61d"
      },
      "execution_count": null,
      "outputs": [
        {
          "output_type": "display_data",
          "data": {
            "image/png": "[encoded data removed]",
            "text/plain": [
              "<Figure size 432x288 with 1 Axes>"
            ]
          },
          "metadata": {
            "needs_background": "light"
          }
        }
      ]
    },
    {
      "cell_type": "code",
      "source": [
        "count=0\n",
        "for i in range(len(labels_sc)):\n",
        "  if labels_sc[i]==spam_lab_modified[i]:\n",
        "    count=count+1\n",
        "\n",
        "count/len(labels)"
      ],
      "metadata": {
        "colab": {
          "base_uri": "https://localhost:8080/"
        },
        "id": "dXameNB5IB4w",
        "outputId": "1f9c4fce-d652-4438-808e-e91eb870f0e4"
      },
      "execution_count": null,
      "outputs": [
        {
          "output_type": "execute_result",
          "data": {
            "text/plain": [
              "0.352"
            ]
          },
          "metadata": {},
          "execution_count": 87
        }
      ]
    }
  ]
}